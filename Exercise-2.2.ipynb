{
 "cells": [
  {
   "cell_type": "markdown",
   "metadata": {},
   "source": [
    "# Excersise 2.2"
   ]
  },
  {
   "cell_type": "markdown",
   "metadata": {},
   "source": [
    "> Expectations and variances:\n",
    "\n",
    "> Let $Y_1$ and $Y_2$ be two independent random variables, such that $\\mathrm{E}[Y_i] = \\mu_i$ and $\\mathrm{Var}[Y_i] = \\sigma_i^2$. Using the definition of expectation and variance, compute the following quantities, where $a_1$ and $a_2$ are given constants:\n",
    "\n",
    "> a) $\\mathrm{E}[a_1 Y_1 + a_2 Y_2], \\mathrm{Var}[a_1 Y_1 + a_2 Y_2];$\n",
    "\n",
    "> b) $\\mathrm{E}[a_1 Y_1 - a_2 Y_2], \\mathrm{Var}[a_1 Y_1 - a_2 Y_2];$"
   ]
  },
  {
   "cell_type": "markdown",
   "metadata": {},
   "source": [
    "## Solution"
   ]
  },
  {
   "cell_type": "markdown",
   "metadata": {},
   "source": [
    "Using definition of expectation:\n",
    "\n",
    "$$\n",
    "\\mathrm{E}[x] = \\int_{R} x \\cdot p(x)\\, dx \\\\\n",
    "\\mathrm{E}[C \\cdot x] = C \\cdot \\mathrm{E}[x]\n",
    "$$\n",
    "\n",
    "Variance:\n",
    "$$\n",
    "\\mathrm{Var}[x] = \\mathrm{E}[(x - \\mathrm{E}[x])^2] \\\\\n",
    "\\mathrm{Var}[x] = \\mathrm{E}[x^2] - \\mathrm{E}[x]^2\n",
    "$$"
   ]
  },
  {
   "cell_type": "markdown",
   "metadata": {},
   "source": [
    "It's easy to prove that:\n",
    "\n",
    "$$\n",
    "\\mathrm{E}[a_1 Y_1 + a_2 Y_2] = a_1\\cdot\\mu_1 + a_2\\cdot\\mu_2 \\\\\n",
    "\\mathrm{Var}[a_1 Y_1 + a_2 Y_2] = a_1^2\\cdot\\sigma_1^2 + a_2^2\\cdot\\sigma_2^2 \\\\\n",
    "$$\n",
    "$$\n",
    "\\mathrm{E}[a_1 Y_1 - a_2 Y_2] = a_1\\cdot\\mu_1 - a_2\\cdot\\mu_2 \\\\\n",
    "\\mathrm{Var}[a_1 Y_1 - a_2 Y_2] = a_1^2\\cdot\\sigma_1^2 + a_2^2\\cdot\\sigma_2^2\n",
    "$$"
   ]
  }
 ],
 "metadata": {
  "kernelspec": {
   "display_name": "R",
   "language": "R",
   "name": "ir"
  },
  "language_info": {
   "codemirror_mode": "r",
   "file_extension": ".r",
   "mimetype": "text/x-r-source",
   "name": "R",
   "pygments_lexer": "r",
   "version": "3.4.1"
  }
 },
 "nbformat": 4,
 "nbformat_minor": 2
}
