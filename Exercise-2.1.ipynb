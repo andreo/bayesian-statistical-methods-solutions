{
 "cells": [
  {
   "cell_type": "markdown",
   "metadata": {},
   "source": [
    "# Excersize 2.1"
   ]
  },
  {
   "cell_type": "markdown",
   "metadata": {},
   "source": [
    "> Marginal and conditional probability:\n",
    "\n",
    "> The social mobility data from Section 2.5 gives a joint probability distribution on (Y1, Y2)= (father’s occupation, son’s occupation).\n",
    "\n",
    "> Using this joint distribution, calculate the following distributions:\n",
    "\n",
    "> - a) the marginal probability distribution of a father’s occupation;\n",
    "> - b) the marginal probability distribution of a son’s occupation;\n",
    "> - c) the conditional distribution of a son’s occupation, given that the father is a farmer;\n",
    "> - d) the conditional distribution of a father’s occupation, given that the son is a farmer;\n",
    "\n",
    "> Logan (1983) reports the following joint distribution of occupational categories\n",
    "of fathers and sons (father - rows, son - columns):"
   ]
  },
  {
   "cell_type": "code",
   "execution_count": 1,
   "metadata": {},
   "outputs": [
    {
     "data": {
      "text/html": [
       "<table>\n",
       "<thead><tr><th></th><th scope=col>farm</th><th scope=col>operatives</th><th scope=col>craftsmen</th><th scope=col>sales</th><th scope=col>professional</th></tr></thead>\n",
       "<tbody>\n",
       "\t<tr><th scope=row>farm</th><td>0.018</td><td>0.035</td><td>0.031</td><td>0.008</td><td>0.018</td></tr>\n",
       "\t<tr><th scope=row>operatives</th><td>0.002</td><td>0.112</td><td>0.064</td><td>0.032</td><td>0.069</td></tr>\n",
       "\t<tr><th scope=row>craftsmen</th><td>0.001</td><td>0.066</td><td>0.094</td><td>0.032</td><td>0.084</td></tr>\n",
       "\t<tr><th scope=row>sales</th><td>0.001</td><td>0.018</td><td>0.019</td><td>0.010</td><td>0.051</td></tr>\n",
       "\t<tr><th scope=row>professional</th><td>0.001</td><td>0.029</td><td>0.032</td><td>0.043</td><td>0.130</td></tr>\n",
       "</tbody>\n",
       "</table>\n"
      ],
      "text/latex": [
       "\\begin{tabular}{r|lllll}\n",
       "  & farm & operatives & craftsmen & sales & professional\\\\\n",
       "\\hline\n",
       "\tfarm & 0.018 & 0.035 & 0.031 & 0.008 & 0.018\\\\\n",
       "\toperatives & 0.002 & 0.112 & 0.064 & 0.032 & 0.069\\\\\n",
       "\tcraftsmen & 0.001 & 0.066 & 0.094 & 0.032 & 0.084\\\\\n",
       "\tsales & 0.001 & 0.018 & 0.019 & 0.010 & 0.051\\\\\n",
       "\tprofessional & 0.001 & 0.029 & 0.032 & 0.043 & 0.130\\\\\n",
       "\\end{tabular}\n"
      ],
      "text/markdown": [
       "\n",
       "| <!--/--> | farm | operatives | craftsmen | sales | professional | \n",
       "|---|---|---|---|---|\n",
       "| farm | 0.018 | 0.035 | 0.031 | 0.008 | 0.018 | \n",
       "| operatives | 0.002 | 0.112 | 0.064 | 0.032 | 0.069 | \n",
       "| craftsmen | 0.001 | 0.066 | 0.094 | 0.032 | 0.084 | \n",
       "| sales | 0.001 | 0.018 | 0.019 | 0.010 | 0.051 | \n",
       "| professional | 0.001 | 0.029 | 0.032 | 0.043 | 0.130 | \n",
       "\n",
       "\n"
      ],
      "text/plain": [
       "             farm  operatives craftsmen sales professional\n",
       "farm         0.018 0.035      0.031     0.008 0.018       \n",
       "operatives   0.002 0.112      0.064     0.032 0.069       \n",
       "craftsmen    0.001 0.066      0.094     0.032 0.084       \n",
       "sales        0.001 0.018      0.019     0.010 0.051       \n",
       "professional 0.001 0.029      0.032     0.043 0.130       "
      ]
     },
     "metadata": {},
     "output_type": "display_data"
    }
   ],
   "source": [
    "joint <- t(matrix(c(\n",
    "    0.018, 0.035, 0.031, 0.008, 0.018,\n",
    "    0.002, 0.112, 0.064, 0.032, 0.069,\n",
    "    0.001, 0.066, 0.094, 0.032, 0.084,\n",
    "    0.001, 0.018, 0.019, 0.010, 0.051,\n",
    "    0.001, 0.029, 0.032, 0.043, 0.130), ncol=5))\n",
    "\n",
    "names <- c(\"farm\", \"operatives\", \"craftsmen\", \"sales\", \"professional\")\n",
    "colnames(joint) <- names\n",
    "rownames(joint) <- names\n",
    "joint"
   ]
  },
  {
   "cell_type": "markdown",
   "metadata": {},
   "source": [
    "## Solution"
   ]
  },
  {
   "cell_type": "markdown",
   "metadata": {},
   "source": [
    "a) the marginal probability distribution of a father’s occupation $P(father)$:"
   ]
  },
  {
   "cell_type": "code",
   "execution_count": 2,
   "metadata": {},
   "outputs": [
    {
     "data": {
      "text/html": [
       "<dl class=dl-horizontal>\n",
       "\t<dt>farm</dt>\n",
       "\t\t<dd>0.11</dd>\n",
       "\t<dt>operatives</dt>\n",
       "\t\t<dd>0.279</dd>\n",
       "\t<dt>craftsmen</dt>\n",
       "\t\t<dd>0.277</dd>\n",
       "\t<dt>sales</dt>\n",
       "\t\t<dd>0.099</dd>\n",
       "\t<dt>professional</dt>\n",
       "\t\t<dd>0.235</dd>\n",
       "</dl>\n"
      ],
      "text/latex": [
       "\\begin{description*}\n",
       "\\item[farm] 0.11\n",
       "\\item[operatives] 0.279\n",
       "\\item[craftsmen] 0.277\n",
       "\\item[sales] 0.099\n",
       "\\item[professional] 0.235\n",
       "\\end{description*}\n"
      ],
      "text/markdown": [
       "farm\n",
       ":   0.11operatives\n",
       ":   0.279craftsmen\n",
       ":   0.277sales\n",
       ":   0.099professional\n",
       ":   0.235\n",
       "\n"
      ],
      "text/plain": [
       "        farm   operatives    craftsmen        sales professional \n",
       "       0.110        0.279        0.277        0.099        0.235 "
      ]
     },
     "metadata": {},
     "output_type": "display_data"
    }
   ],
   "source": [
    "apply(joint, 1, sum)"
   ]
  },
  {
   "cell_type": "markdown",
   "metadata": {},
   "source": [
    "b) the marginal probability distribution of a son’s occupation $P(son)$:"
   ]
  },
  {
   "cell_type": "code",
   "execution_count": 3,
   "metadata": {},
   "outputs": [
    {
     "data": {
      "text/html": [
       "<dl class=dl-horizontal>\n",
       "\t<dt>farm</dt>\n",
       "\t\t<dd>0.023</dd>\n",
       "\t<dt>operatives</dt>\n",
       "\t\t<dd>0.26</dd>\n",
       "\t<dt>craftsmen</dt>\n",
       "\t\t<dd>0.24</dd>\n",
       "\t<dt>sales</dt>\n",
       "\t\t<dd>0.125</dd>\n",
       "\t<dt>professional</dt>\n",
       "\t\t<dd>0.352</dd>\n",
       "</dl>\n"
      ],
      "text/latex": [
       "\\begin{description*}\n",
       "\\item[farm] 0.023\n",
       "\\item[operatives] 0.26\n",
       "\\item[craftsmen] 0.24\n",
       "\\item[sales] 0.125\n",
       "\\item[professional] 0.352\n",
       "\\end{description*}\n"
      ],
      "text/markdown": [
       "farm\n",
       ":   0.023operatives\n",
       ":   0.26craftsmen\n",
       ":   0.24sales\n",
       ":   0.125professional\n",
       ":   0.352\n",
       "\n"
      ],
      "text/plain": [
       "        farm   operatives    craftsmen        sales professional \n",
       "       0.023        0.260        0.240        0.125        0.352 "
      ]
     },
     "metadata": {},
     "output_type": "display_data"
    }
   ],
   "source": [
    "round(apply(joint, 2, sum), digits=4)"
   ]
  },
  {
   "cell_type": "markdown",
   "metadata": {},
   "source": [
    "c) the conditional distribution of a son’s occupation, given that the father\n",
    "is a farmer $P(son|father = farm)$:"
   ]
  },
  {
   "cell_type": "code",
   "execution_count": 4,
   "metadata": {},
   "outputs": [
    {
     "data": {
      "text/html": [
       "<dl class=dl-horizontal>\n",
       "\t<dt>farm</dt>\n",
       "\t\t<dd>0.1636</dd>\n",
       "\t<dt>operatives</dt>\n",
       "\t\t<dd>0.3182</dd>\n",
       "\t<dt>craftsmen</dt>\n",
       "\t\t<dd>0.2818</dd>\n",
       "\t<dt>sales</dt>\n",
       "\t\t<dd>0.0727</dd>\n",
       "\t<dt>professional</dt>\n",
       "\t\t<dd>0.1636</dd>\n",
       "</dl>\n"
      ],
      "text/latex": [
       "\\begin{description*}\n",
       "\\item[farm] 0.1636\n",
       "\\item[operatives] 0.3182\n",
       "\\item[craftsmen] 0.2818\n",
       "\\item[sales] 0.0727\n",
       "\\item[professional] 0.1636\n",
       "\\end{description*}\n"
      ],
      "text/markdown": [
       "farm\n",
       ":   0.1636operatives\n",
       ":   0.3182craftsmen\n",
       ":   0.2818sales\n",
       ":   0.0727professional\n",
       ":   0.1636\n",
       "\n"
      ],
      "text/plain": [
       "        farm   operatives    craftsmen        sales professional \n",
       "      0.1636       0.3182       0.2818       0.0727       0.1636 "
      ]
     },
     "metadata": {},
     "output_type": "display_data"
    }
   ],
   "source": [
    "round(joint['farm',] / sum(joint['farm',]), digits=4)"
   ]
  },
  {
   "cell_type": "markdown",
   "metadata": {},
   "source": [
    "d) the conditional distribution of a father’s occupation, given that the\n",
    "son is a farmer $P(father|son = farm)$:"
   ]
  },
  {
   "cell_type": "code",
   "execution_count": 5,
   "metadata": {},
   "outputs": [
    {
     "data": {
      "text/html": [
       "<dl class=dl-horizontal>\n",
       "\t<dt>farm</dt>\n",
       "\t\t<dd>0.7826</dd>\n",
       "\t<dt>operatives</dt>\n",
       "\t\t<dd>0.087</dd>\n",
       "\t<dt>craftsmen</dt>\n",
       "\t\t<dd>0.0435</dd>\n",
       "\t<dt>sales</dt>\n",
       "\t\t<dd>0.0435</dd>\n",
       "\t<dt>professional</dt>\n",
       "\t\t<dd>0.0435</dd>\n",
       "</dl>\n"
      ],
      "text/latex": [
       "\\begin{description*}\n",
       "\\item[farm] 0.7826\n",
       "\\item[operatives] 0.087\n",
       "\\item[craftsmen] 0.0435\n",
       "\\item[sales] 0.0435\n",
       "\\item[professional] 0.0435\n",
       "\\end{description*}\n"
      ],
      "text/markdown": [
       "farm\n",
       ":   0.7826operatives\n",
       ":   0.087craftsmen\n",
       ":   0.0435sales\n",
       ":   0.0435professional\n",
       ":   0.0435\n",
       "\n"
      ],
      "text/plain": [
       "        farm   operatives    craftsmen        sales professional \n",
       "      0.7826       0.0870       0.0435       0.0435       0.0435 "
      ]
     },
     "metadata": {},
     "output_type": "display_data"
    }
   ],
   "source": [
    "round(joint[,'farm'] / sum(joint[,'farm']), digits=4)"
   ]
  }
 ],
 "metadata": {
  "kernelspec": {
   "display_name": "R",
   "language": "R",
   "name": "ir"
  },
  "language_info": {
   "codemirror_mode": "r",
   "file_extension": ".r",
   "mimetype": "text/x-r-source",
   "name": "R",
   "pygments_lexer": "r",
   "version": "3.4.1"
  }
 },
 "nbformat": 4,
 "nbformat_minor": 2
}
