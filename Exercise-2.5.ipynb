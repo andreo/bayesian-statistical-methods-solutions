{
 "cells": [
  {
   "cell_type": "markdown",
   "metadata": {},
   "source": [
    "# Exercise 2.5"
   ]
  },
  {
   "cell_type": "markdown",
   "metadata": {},
   "source": [
    "> Urns: Suppose urn $H$ is filled with 40% green balls and 60% red balls, and\n",
    "> urn $T$ is filled with 60% green balls and 40% red balls. Someone will flip\n",
    "> a coin and then select a ball from urn $H$ or urn $T$ depending on whether\n",
    "> the coin lands heads or tails, respectively. Let $X$ be $1$ or $0$ if the coin lands\n",
    "> heads or tails, and let $Y$ be $1$ or $0$ if the ball is green or red.\n",
    "\n",
    "> a) Write out the joint distribution of $X$ and $Y$ in a table.\n",
    "\n",
    "> b) Find $\\mathrm{E}[Y]$. What is the probability that the ball is green?\n",
    "\n",
    "> c) Find $\\mathrm{Var}[Y|X=0]$, $\\mathrm{Var}[Y|X=1]$ and $\\mathrm{Var}[Y]$. Thinking of variance as measuring uncertainty, explain intuitively why one of these variances is larger than the others.\n",
    "\n",
    "> d) Suppose you see that the ball is green. What is the probability that the coin turned up tails?"
   ]
  },
  {
   "cell_type": "markdown",
   "metadata": {},
   "source": [
    "## Solution"
   ]
  },
  {
   "cell_type": "code",
   "execution_count": 1,
   "metadata": {},
   "outputs": [
    {
     "data": {
      "text/html": [
       "<table>\n",
       "<thead><tr><th></th><th scope=col>G</th><th scope=col>R</th></tr></thead>\n",
       "<tbody>\n",
       "\t<tr><th scope=row>H</th><td>0.4</td><td>0.6</td></tr>\n",
       "\t<tr><th scope=row>T</th><td>0.6</td><td>0.4</td></tr>\n",
       "</tbody>\n",
       "</table>\n"
      ],
      "text/latex": [
       "\\begin{tabular}{r|ll}\n",
       "  & G & R\\\\\n",
       "\\hline\n",
       "\tH & 0.4 & 0.6\\\\\n",
       "\tT & 0.6 & 0.4\\\\\n",
       "\\end{tabular}\n"
      ],
      "text/markdown": [
       "\n",
       "| <!--/--> | G | R | \n",
       "|---|---|\n",
       "| H | 0.4 | 0.6 | \n",
       "| T | 0.6 | 0.4 | \n",
       "\n",
       "\n"
      ],
      "text/plain": [
       "  G   R  \n",
       "H 0.4 0.6\n",
       "T 0.6 0.4"
      ]
     },
     "metadata": {},
     "output_type": "display_data"
    }
   ],
   "source": [
    "p_X <- c(0.5, 0.5)\n",
    "\n",
    "p_Y_given_X <- rbind(c(0.4, 0.6), c(0.6, 0.4))\n",
    "colnames(p_Y_given_X) <- c(\"G\", \"R\")\n",
    "rownames(p_Y_given_X) <- c(\"H\", \"T\")\n",
    "p_Y_given_X"
   ]
  },
  {
   "cell_type": "markdown",
   "metadata": {},
   "source": [
    "a) Write out the joint distribution of $X$ and $Y$ in a table:"
   ]
  },
  {
   "cell_type": "code",
   "execution_count": 2,
   "metadata": {},
   "outputs": [
    {
     "data": {
      "text/html": [
       "<table>\n",
       "<thead><tr><th></th><th scope=col>G</th><th scope=col>R</th></tr></thead>\n",
       "<tbody>\n",
       "\t<tr><th scope=row>H</th><td>0.2</td><td>0.3</td></tr>\n",
       "\t<tr><th scope=row>T</th><td>0.3</td><td>0.2</td></tr>\n",
       "</tbody>\n",
       "</table>\n"
      ],
      "text/latex": [
       "\\begin{tabular}{r|ll}\n",
       "  & G & R\\\\\n",
       "\\hline\n",
       "\tH & 0.2 & 0.3\\\\\n",
       "\tT & 0.3 & 0.2\\\\\n",
       "\\end{tabular}\n"
      ],
      "text/markdown": [
       "\n",
       "| <!--/--> | G | R | \n",
       "|---|---|\n",
       "| H | 0.2 | 0.3 | \n",
       "| T | 0.3 | 0.2 | \n",
       "\n",
       "\n"
      ],
      "text/plain": [
       "  G   R  \n",
       "H 0.2 0.3\n",
       "T 0.3 0.2"
      ]
     },
     "metadata": {},
     "output_type": "display_data"
    }
   ],
   "source": [
    "p_XY <- p_Y_given_X * p_X\n",
    "p_XY"
   ]
  },
  {
   "cell_type": "markdown",
   "metadata": {},
   "source": [
    "b) Find $\\mathrm{E}[Y]$. What is the probability that the ball is green?"
   ]
  },
  {
   "cell_type": "markdown",
   "metadata": {},
   "source": [
    "Marginal: $P(Y) = \\sum_{X=H,T}P(X, Y) = \\sum_{X=H,T} P(Y|X) \\cdot P(X)$"
   ]
  },
  {
   "cell_type": "code",
   "execution_count": 3,
   "metadata": {},
   "outputs": [
    {
     "data": {
      "text/html": [
       "<dl class=dl-horizontal>\n",
       "\t<dt>G</dt>\n",
       "\t\t<dd>0.5</dd>\n",
       "\t<dt>R</dt>\n",
       "\t\t<dd>0.5</dd>\n",
       "</dl>\n"
      ],
      "text/latex": [
       "\\begin{description*}\n",
       "\\item[G] 0.5\n",
       "\\item[R] 0.5\n",
       "\\end{description*}\n"
      ],
      "text/markdown": [
       "G\n",
       ":   0.5R\n",
       ":   0.5\n",
       "\n"
      ],
      "text/plain": [
       "  G   R \n",
       "0.5 0.5 "
      ]
     },
     "metadata": {},
     "output_type": "display_data"
    }
   ],
   "source": [
    "p_Y <- apply(p_XY, 2, sum)\n",
    "p_Y"
   ]
  },
  {
   "cell_type": "markdown",
   "metadata": {},
   "source": [
    "c) Find $\\mathrm{Var}[Y|X=0]$, $\\mathrm{Var}[Y|X=1]$ and $\\mathrm{Var}[Y]$. Thinking of variance as measuring uncertainty, explain intuitively why one of these variances is larger than the others."
   ]
  },
  {
   "cell_type": "markdown",
   "metadata": {},
   "source": [
    "$P(Y|X=H) = \\frac{P(Y,X=H)}{\\sum_{Y=G,R}P(Y|X=H)}$"
   ]
  },
  {
   "cell_type": "code",
   "execution_count": 4,
   "metadata": {},
   "outputs": [
    {
     "data": {
      "text/html": [
       "<dl class=dl-horizontal>\n",
       "\t<dt>G</dt>\n",
       "\t\t<dd>0.4</dd>\n",
       "\t<dt>R</dt>\n",
       "\t\t<dd>0.6</dd>\n",
       "</dl>\n"
      ],
      "text/latex": [
       "\\begin{description*}\n",
       "\\item[G] 0.4\n",
       "\\item[R] 0.6\n",
       "\\end{description*}\n"
      ],
      "text/markdown": [
       "G\n",
       ":   0.4R\n",
       ":   0.6\n",
       "\n"
      ],
      "text/plain": [
       "  G   R \n",
       "0.4 0.6 "
      ]
     },
     "metadata": {},
     "output_type": "display_data"
    }
   ],
   "source": [
    "p_Y_given_H <- p_XY['H',] / sum(p_XY['H',])\n",
    "p_Y_given_H"
   ]
  },
  {
   "cell_type": "code",
   "execution_count": 5,
   "metadata": {},
   "outputs": [
    {
     "data": {
      "text/html": [
       "<dl class=dl-horizontal>\n",
       "\t<dt>G</dt>\n",
       "\t\t<dd>0.6</dd>\n",
       "\t<dt>R</dt>\n",
       "\t\t<dd>0.4</dd>\n",
       "</dl>\n"
      ],
      "text/latex": [
       "\\begin{description*}\n",
       "\\item[G] 0.6\n",
       "\\item[R] 0.4\n",
       "\\end{description*}\n"
      ],
      "text/markdown": [
       "G\n",
       ":   0.6R\n",
       ":   0.4\n",
       "\n"
      ],
      "text/plain": [
       "  G   R \n",
       "0.6 0.4 "
      ]
     },
     "metadata": {},
     "output_type": "display_data"
    }
   ],
   "source": [
    "p_Y_given_T <- p_XY['T',] / sum(p_XY['T',])\n",
    "p_Y_given_T"
   ]
  },
  {
   "cell_type": "markdown",
   "metadata": {},
   "source": [
    "Variance for Bernoulli distribution:"
   ]
  },
  {
   "cell_type": "code",
   "execution_count": 6,
   "metadata": {},
   "outputs": [
    {
     "data": {
      "text/html": [
       "<strong>R:</strong> 0.25"
      ],
      "text/latex": [
       "\\textbf{R:} 0.25"
      ],
      "text/markdown": [
       "**R:** 0.25"
      ],
      "text/plain": [
       "   R \n",
       "0.25 "
      ]
     },
     "metadata": {},
     "output_type": "display_data"
    }
   ],
   "source": [
    "p_Y['R'] * p_Y['G']"
   ]
  },
  {
   "cell_type": "code",
   "execution_count": 7,
   "metadata": {},
   "outputs": [
    {
     "data": {
      "text/html": [
       "<strong>R:</strong> 0.24"
      ],
      "text/latex": [
       "\\textbf{R:} 0.24"
      ],
      "text/markdown": [
       "**R:** 0.24"
      ],
      "text/plain": [
       "   R \n",
       "0.24 "
      ]
     },
     "metadata": {},
     "output_type": "display_data"
    }
   ],
   "source": [
    "p_Y_given_H['R'] * p_Y_given_H['G']"
   ]
  },
  {
   "cell_type": "markdown",
   "metadata": {},
   "source": [
    "d) Suppose you see that the ball is green. What is the probability that the coin turned up tails?"
   ]
  },
  {
   "cell_type": "markdown",
   "metadata": {},
   "source": [
    "$P(X|Y=G) = \\frac{P(X, Y=G)}{P(Y=G)} = \\frac{P(X, Y=G)}{\\sum_{X=H,T}P(X, Y=G)}$"
   ]
  },
  {
   "cell_type": "code",
   "execution_count": 8,
   "metadata": {},
   "outputs": [
    {
     "data": {
      "text/html": [
       "<dl class=dl-horizontal>\n",
       "\t<dt>H</dt>\n",
       "\t\t<dd>0.4</dd>\n",
       "\t<dt>T</dt>\n",
       "\t\t<dd>0.6</dd>\n",
       "</dl>\n"
      ],
      "text/latex": [
       "\\begin{description*}\n",
       "\\item[H] 0.4\n",
       "\\item[T] 0.6\n",
       "\\end{description*}\n"
      ],
      "text/markdown": [
       "H\n",
       ":   0.4T\n",
       ":   0.6\n",
       "\n"
      ],
      "text/plain": [
       "  H   T \n",
       "0.4 0.6 "
      ]
     },
     "metadata": {},
     "output_type": "display_data"
    }
   ],
   "source": [
    "p_XY[,'G'] / sum(p_XY[,'G'])"
   ]
  }
 ],
 "metadata": {
  "kernelspec": {
   "display_name": "R",
   "language": "R",
   "name": "ir"
  },
  "language_info": {
   "codemirror_mode": "r",
   "file_extension": ".r",
   "mimetype": "text/x-r-source",
   "name": "R",
   "pygments_lexer": "r",
   "version": "3.4.1"
  }
 },
 "nbformat": 4,
 "nbformat_minor": 2
}
